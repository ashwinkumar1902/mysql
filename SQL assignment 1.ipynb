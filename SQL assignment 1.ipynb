{
 "cells": [
  {
   "cell_type": "code",
   "execution_count": 4,
   "id": "972f2d21",
   "metadata": {},
   "outputs": [
    {
     "name": "stdout",
     "output_type": "stream",
     "text": [
      "('46796E3331',)\n",
      "('4D6172613238',)\n",
      "('4E65736861776E3137',)\n",
      "('4F74746F3333',)\n"
     ]
    }
   ],
   "source": [
    "import mysql.connector\n",
    "\n",
    "conn = mysql.connector.connect(user='ashwin', password='mysql12345', host='localhost', database='krushnA02')\n",
    "cursor = conn.cursor()\n",
    "\n",
    "                         cursor.execute(\"\"\"\n",
    "    CREATE TABLE IF NOT EXISTS Ages (\n",
    "        name VARCHAR(128),\n",
    "        age INTEGER\n",
    "    )\n",
    "\"\"\")\n",
    "\n",
    "# Delete existing rows\n",
    "cursor.execute(\"DELETE FROM Ages\")\n",
    "\n",
    "# Insert rows\n",
    "cursor.execute(\"INSERT INTO Ages (name, age) VALUES (%s, %s)\", ('Mara', 28))\n",
    "cursor.execute(\"INSERT INTO Ages (name, age) VALUES (%s, %s)\", ('Otto', 33))\n",
    "cursor.execute(\"INSERT INTO Ages (name, age) VALUES (%s, %s)\", ('Fyn', 31))\n",
    "cursor.execute(\"INSERT INTO Ages (name, age) VALUES (%s, %s)\", ('Neshawn', 17))\n",
    "\n",
    "# Commit the changes\n",
    "conn.commit()\n",
    "\n",
    "# Run the SQL command to select and order the rows\n",
    "cursor.execute(\"SELECT hex(concat(name, age)) AS X FROM Ages ORDER BY X\")\n",
    "\n",
    "# Fetch all rows from the result set\n",
    "rows = cursor.fetchall()\n",
    "\n",
    "# Print the result\n",
    "for row in rows:\n",
    "    print(row)\n",
    "\n",
    "# Close the cursor and connection\n",
    "cursor.close()\n",
    "conn.close()\n"
   ]
  },
  {
   "cell_type": "code",
   "execution_count": null,
   "id": "88ddfa46",
   "metadata": {},
   "outputs": [],
   "source": []
  }
 ],
 "metadata": {
  "kernelspec": {
   "display_name": "Python 3 (ipykernel)",
   "language": "python",
   "name": "python3"
  },
  "language_info": {
   "codemirror_mode": {
    "name": "ipython",
    "version": 3
   },
   "file_extension": ".py",
   "mimetype": "text/x-python",
   "name": "python",
   "nbconvert_exporter": "python",
   "pygments_lexer": "ipython3",
   "version": "3.11.5"
  }
 },
 "nbformat": 4,
 "nbformat_minor": 5
}
