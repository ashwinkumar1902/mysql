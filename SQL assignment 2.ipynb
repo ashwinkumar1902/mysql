{
 "cells": [
  {
   "cell_type": "code",
   "execution_count": 5,
   "id": "7cdf681a",
   "metadata": {},
   "outputs": [
    {
     "name": "stdout",
     "output_type": "stream",
     "text": [
      "Enter file name: mbox.txt\n",
      "iupui.edu 8\n",
      "umich.edu 7\n",
      "uct.ac.za 6\n",
      "media.berkeley.edu 4\n",
      "caret.cam.ac.uk 1\n",
      "gmail.com 1\n"
     ]
    }
   ],
   "source": [
    "# Import the sqlite3 module\n",
    "import sqlite3\n",
    "\n",
    "# Connect to a database file\n",
    "conn = sqlite3.connect('emaildb.sqlite')\n",
    "cur = conn.cursor()\n",
    "\n",
    "# Create a table with org and count columns\n",
    "cur.execute('CREATE TABLE Counts (org TEXT, count INTEGER)')\n",
    "\n",
    "# Ask the user to enter a file name\n",
    "fname = input('Enter file name: ')\n",
    "\n",
    "# Open the file and loop through the lines\n",
    "file = open(fname)\n",
    "for line in file:\n",
    "    # Skip the lines that do not start with 'From: '\n",
    "    if not line.startswith('From: '): continue\n",
    "    # Split the line and get the email address\n",
    "    pieces = line.split()\n",
    "    email = pieces[1]\n",
    "    # Split the email address and get the domain name\n",
    "    domain = email.split('@')[1]\n",
    "    # Insert or update the domain name and the count in the table\n",
    "    cur.execute('SELECT count FROM Counts WHERE org = ? ', (domain,))\n",
    "    row = cur.fetchone()\n",
    "    if row is None:\n",
    "        cur.execute('INSERT INTO Counts (org, count) VALUES (?, 1)', (domain,))\n",
    "    else:\n",
    "        cur.execute('UPDATE Counts SET count = count + 1 WHERE org = ?', (domain,))\n",
    "    # Commit the changes to the database\n",
    "    conn.commit()\n",
    "\n",
    "# Query the table and print the counts in descending order\n",
    "sqlstr = 'SELECT org, count FROM Counts ORDER BY count DESC'\n",
    "for row in cur.execute(sqlstr):\n",
    "    print(str(row[0]), row[1])\n",
    "\n",
    "# Close the cursor and the connection\n",
    "cur.close()\n",
    "conn.close()\n"
   ]
  },
  {
   "cell_type": "raw",
   "id": "a6c30cb7",
   "metadata": {},
   "source": [
    "\n"
   ]
  }
 ],
 "metadata": {
  "kernelspec": {
   "display_name": "Python 3 (ipykernel)",
   "language": "python",
   "name": "python3"
  },
  "language_info": {
   "codemirror_mode": {
    "name": "ipython",
    "version": 3
   },
   "file_extension": ".py",
   "mimetype": "text/x-python",
   "name": "python",
   "nbconvert_exporter": "python",
   "pygments_lexer": "ipython3",
   "version": "3.11.5"
  }
 },
 "nbformat": 4,
 "nbformat_minor": 5
}
